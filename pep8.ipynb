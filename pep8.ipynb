{
 "cells": [
  {
   "cell_type": "code",
   "execution_count": 17,
   "metadata": {},
   "outputs": [],
   "source": [
    "#Naming Conventions\n",
    "#module names are to be lower case with uderscore as seperator\n",
    "#my_module.py\n",
    "#package names are to be lower case but with no underscore as seperator\n",
    "#mypackage\n",
    "#Do not use names with the following: I L O\n",
    "#I = some_value\n",
    "#L = some_value\n",
    "#O = some_value\n",
    "#function names must be lower case, and for multiple words seperate them with an underscore\n",
    "def calculate_score():\n",
    "    #variable names also follow a similar format\n",
    "    score = 10;\n",
    "    game_score = 10;\n",
    "    #constants are to be uppercase and multiple words are to be seperated with underscores\n",
    "    GAME_DEFAULT_SCORE = 0\n",
    "\n",
    "#Class names are different. The class names are capitalized and multiple words are joined together without any underscore.\n",
    "class PersonType:\n",
    "    def __init__(self,type):\n",
    "        self.type = type\n",
    "    \n",
    "class Person:\n",
    "    def __init__(self):\n",
    "        self.name = 'Person'\n",
    "        self.type = PersonType('Good')\n",
    "    #method names are to be given names with the same style as the function names     \n",
    "    def get_type(self):\n",
    "        return self.type\n",
    "    \n"
   ]
  },
  {
   "cell_type": "code",
   "execution_count": 18,
   "metadata": {},
   "outputs": [
    {
     "data": {
      "text/plain": [
       "'Person'"
      ]
     },
     "execution_count": 18,
     "metadata": {},
     "output_type": "execute_result"
    }
   ],
   "source": [
    "person = Person()\n",
    "person.name"
   ]
  },
  {
   "cell_type": "code",
   "execution_count": 19,
   "metadata": {},
   "outputs": [
    {
     "data": {
      "text/plain": [
       "'Good'"
      ]
     },
     "execution_count": 19,
     "metadata": {},
     "output_type": "execute_result"
    }
   ],
   "source": [
    "person.get_type().type"
   ]
  },
  {
   "cell_type": "code",
   "execution_count": 21,
   "metadata": {},
   "outputs": [
    {
     "data": {
      "text/plain": [
       "'Neguib'"
      ]
     },
     "execution_count": 21,
     "metadata": {},
     "output_type": "execute_result"
    }
   ],
   "source": [
    "#single lettered variable names are fine for mathematical operations such as\n",
    "x = 10\n",
    "x = x + 10;\n",
    "\n",
    "#single lettered variable names are not fine where you need to convey meaning to the variables such as a variable containing name\n",
    "person_name = 'Mustafa Neguib'\n",
    "first_name, last_name = person_name.split()\n",
    "first_name\n",
    "last_name\n",
    "#the above makes sense. the variables have been given proper names and the names explain what the variables are for.\n",
    "#the names should be meaningful and should be self explainatory"
   ]
  },
  {
   "cell_type": "code",
   "execution_count": 22,
   "metadata": {},
   "outputs": [],
   "source": [
    "#Code Layout\n",
    "#use 2 blank lines between classes and functions\n",
    "#use 1 blank line to seperate methods in a class\n",
    "class Class1:\n",
    "    def func_one():\n",
    "        pass\n",
    "    \n",
    "    def func_two():\n",
    "        pass\n",
    "\n",
    "\n",
    "class Class2:\n",
    "    pass\n",
    "\n",
    "\n",
    "class Class3:\n",
    "    pass\n",
    "\n",
    "\n",
    "def top_level_function():\n",
    "    pass\n",
    "\n",
    "\n",
    "def calculate_variance(number_list):\n",
    "    #within a function or a method add single blank lines to seperate the code into\n",
    "    #logical blocks\n",
    "    sum_list = 0\n",
    "    for number in number_list:\n",
    "        sum_list = sum_list + number\n",
    "    mean = sum_list / len(number_list)\n",
    "    \n",
    "    sum_squares = 0\n",
    "    for number in number_lists:\n",
    "        sum_squares = sum_squares = number**2\n",
    "    mean_squares = sum_squares / len(number_lists)\n",
    "    \n",
    "    return mean_squares - mean**2\n",
    "        "
   ]
  },
  {
   "cell_type": "code",
   "execution_count": 23,
   "metadata": {},
   "outputs": [
    {
     "ename": "ModuleNotFoundError",
     "evalue": "No module named 'mykg'",
     "output_type": "error",
     "traceback": [
      "\u001b[1;31m---------------------------------------------------------------------------\u001b[0m",
      "\u001b[1;31mModuleNotFoundError\u001b[0m                       Traceback (most recent call last)",
      "\u001b[1;32m<ipython-input-23-0361264a454d>\u001b[0m in \u001b[0;36m<module>\u001b[1;34m\u001b[0m\n\u001b[0;32m      3\u001b[0m \u001b[1;33m\u001b[0m\u001b[0m\n\u001b[0;32m      4\u001b[0m \u001b[1;31m#\\ is telling python to look at the next line for the remaining packages\u001b[0m\u001b[1;33m\u001b[0m\u001b[1;33m\u001b[0m\u001b[1;33m\u001b[0m\u001b[0m\n\u001b[1;32m----> 5\u001b[1;33m \u001b[1;32mfrom\u001b[0m \u001b[0mmykg\u001b[0m \u001b[1;32mimport\u001b[0m \u001b[0mexample1\u001b[0m\u001b[1;33m,\u001b[0m\u001b[0;31m \u001b[0m\u001b[0;31m\\\u001b[0m\u001b[1;33m\u001b[0m\u001b[1;33m\u001b[0m\u001b[0m\n\u001b[0m\u001b[0;32m      6\u001b[0m     \u001b[0mexample2\u001b[0m\u001b[1;33m,\u001b[0m \u001b[0mexample\u001b[0m\u001b[1;33m\u001b[0m\u001b[1;33m\u001b[0m\u001b[0m\n\u001b[0;32m      7\u001b[0m \u001b[1;33m\u001b[0m\u001b[0m\n",
      "\u001b[1;31mModuleNotFoundError\u001b[0m: No module named 'mykg'"
     ]
    }
   ],
   "source": [
    "#Maximum Line Length\n",
    "#Lines should be limited to 79 characters or less\n",
    "\n",
    "#\\ is telling python to look at the next line for the remaining packages\n",
    "from mykg import example1, \\\n",
    "    example2, example \n",
    "\n",
    "#use implied continuation if i am using paranthesis, curly, braces or  brackets\n",
    "def function(arg_one,arg_two,\n",
    "             arg_three,arg_four):\n",
    "    #this is implied continuation\n",
    "    #because we have not added \n",
    "    #anything which specifies \n",
    "    #that i have moved to another line\n",
    "    return arg_one\n",
    "\n",
    "#the following is recommended when writing out mathematical operations.\n",
    "#we must add a new line before the operator as shown.\n",
    "total = (first_variable\n",
    "        + second_variable\n",
    "        - third_variable)"
   ]
  },
  {
   "cell_type": "code",
   "execution_count": 24,
   "metadata": {},
   "outputs": [],
   "source": [
    "#Indentation\n",
    "#use 4 spaces per indentation level\n",
    "def function(arg_one, arg_two,\n",
    "            arg_three, arg_four):\n",
    "    return arg_one\n",
    "\n",
    "x = 10;\n",
    "#both of the following are acceptable ways to indent code\n",
    "if (x > 3 and\n",
    "    x < 10):\n",
    "    #add comment here to show a break\n",
    "    print(x)\n",
    "\n",
    "if (x > 3 and\n",
    "        x < 10):\n",
    "    #add comment here to show a break\n",
    "    print(x)\n",
    "\n",
    "#for dictionaries and lists either of the two \n",
    "#indentations are acceptable\n",
    "list_numbers = [\n",
    "    1,2,3,\n",
    "    4,5,6,\n",
    "    7,8,9,\n",
    "]\n",
    "\n",
    "list_numbers = [\n",
    "    1,2,3,\n",
    "    4,5,6,\n",
    "    7,8,9,\n",
    "    ]\n",
    "\n"
   ]
  },
  {
   "cell_type": "code",
   "execution_count": 25,
   "metadata": {},
   "outputs": [
    {
     "name": "stdout",
     "output_type": "stream",
     "text": [
      "0 \n",
      "\n",
      "1 \n",
      "\n",
      "2 \n",
      "\n",
      "3 \n",
      "\n",
      "4 \n",
      "\n",
      "5 \n",
      "\n",
      "6 \n",
      "\n",
      "7 \n",
      "\n",
      "8 \n",
      "\n",
      "9 \n",
      "\n"
     ]
    }
   ],
   "source": [
    "#Comments\n",
    "#Comments are used to document why something is where it is, and why is it where it is.\n",
    "#Comments should start with capital letters and should be 79 or less characters long at each line.\n",
    "\n",
    "#Block Comments\n",
    "#These comments describe and explain code at block level such as in if and for.\n",
    "for i in range(0,10):\n",
    "    # Comment starts here along with the next line of code\n",
    "    print(i, '\\n')\n",
    "\n",
    "\n",
    "def function():\n",
    "    # Comment 1\n",
    "    # This is the first paragrah\n",
    "    #\n",
    "    # Comment 2\n",
    "    # This is the second paragraph. Note the single blank line above.\n",
    "    pass\n",
    "\n",
    "#Inline Comments\n",
    "x = 5  # This is an inline comment. Inline comments are placed on the same line of the code that they describe.\n",
    "#Give two spaces before the #, and a single space after the #.\n"
   ]
  },
  {
   "cell_type": "code",
   "execution_count": 32,
   "metadata": {},
   "outputs": [],
   "source": [
    "#Documentation Strings or Doc Strings\n",
    "def function():\n",
    "    \"\"\"\n",
    "    This is a doc string. Whatever typed here will\n",
    "    be visible when i call help(function). This\n",
    "    comment style is meant to give information\n",
    "    on the function or module.\n",
    "    \"\"\"\n",
    "    \n",
    "    pass"
   ]
  },
  {
   "cell_type": "code",
   "execution_count": 33,
   "metadata": {},
   "outputs": [
    {
     "name": "stdout",
     "output_type": "stream",
     "text": [
      "Help on function function in module __main__:\n",
      "\n",
      "function()\n",
      "    This is a doc string. Whatever typed here will\n",
      "    be visible when i call help(function). This\n",
      "    comment style is meant to give information\n",
      "    on the function or module.\n",
      "\n"
     ]
    }
   ],
   "source": [
    "help(function)"
   ]
  },
  {
   "cell_type": "code",
   "execution_count": null,
   "metadata": {},
   "outputs": [],
   "source": []
  }
 ],
 "metadata": {
  "kernelspec": {
   "display_name": "Python 3",
   "language": "python",
   "name": "python3"
  },
  "language_info": {
   "codemirror_mode": {
    "name": "ipython",
    "version": 3
   },
   "file_extension": ".py",
   "mimetype": "text/x-python",
   "name": "python",
   "nbconvert_exporter": "python",
   "pygments_lexer": "ipython3",
   "version": "3.7.1"
  }
 },
 "nbformat": 4,
 "nbformat_minor": 2
}
